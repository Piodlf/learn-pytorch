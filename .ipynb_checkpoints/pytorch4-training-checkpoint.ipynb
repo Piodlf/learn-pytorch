{
 "cells": [
  {
   "cell_type": "markdown",
   "metadata": {},
   "source": [
    "# Training the Model"
   ]
  },
  {
   "cell_type": "code",
   "execution_count": 1,
   "metadata": {},
   "outputs": [],
   "source": [
    "import torch\n",
    "from torchvision import transforms, datasets\n",
    "import torch.nn as nn \n",
    "import torch.nn.functional as F\n",
    "\n",
    "# init training and testing data\n",
    "train = datasets.MNIST(\"\", train =True, download=True, \n",
    "                       transform=transforms.Compose([transforms.ToTensor()]))\n",
    "\n",
    "test = datasets.MNIST(\"\", train =False, download=True, \n",
    "                       transform=transforms.Compose([transforms.ToTensor()]))\n",
    "\n",
    "# Training and Testing sets\n",
    "trainset = torch.utils.data.DataLoader(train, batch_size=10, shuffle=True) # Batch size dictates how much data is passed through model at a time\n",
    "testset = torch.utils.data.DataLoader(test, batch_size=10, shuffle=True) # Shuffle creates randomness - improves generalization"
   ]
  },
  {
   "cell_type": "code",
   "execution_count": null,
   "metadata": {},
   "outputs": [],
   "source": [
    "class Net(nn.Module):\n",
    "    def __init__(self):\n",
    "        super().__init__() # Required\n",
    "        self.fc1 = nn.Linear(28*28, 64) # Fully connected first layer, output -> 3 layers of 64 neurons\n",
    "        self.fc2 = nn.Linear(64, 64)\n",
    "        self.fc3 = nn.Linear(64, 64)\n",
    "        self.fc4 = nn.Linear(64, 10) # 10 outputs (1 for each number)\n",
    "    \n",
    "    def forward(self, x): # How data flows through network\n",
    "        x = F.relu(self.fc1(x)) # Relu activation function\n",
    "        x = F.relu(self.fc2(x))\n",
    "        # Can put logic in here (more advanced)\n",
    "        x = F.relu(self.fc3(x))\n",
    "        x = self.fc4(x)\n",
    "        return F.log_softmax(x, dim=1)\n",
    "    \n",
    "net = Net()\n",
    "print(net)"
   ]
  },
  {
   "cell_type": "code",
   "execution_count": null,
   "metadata": {},
   "outputs": [],
   "source": [
    "X = torch.rand((28,28))\n",
    "X = X.view(-1,28*28) # Flattening\n",
    "\n",
    "output = net(X)\n",
    "output"
   ]
  }
 ],
 "metadata": {
  "kernelspec": {
   "display_name": "Python 3",
   "language": "python",
   "name": "python3"
  },
  "language_info": {
   "codemirror_mode": {
    "name": "ipython",
    "version": 3
   },
   "file_extension": ".py",
   "mimetype": "text/x-python",
   "name": "python",
   "nbconvert_exporter": "python",
   "pygments_lexer": "ipython3",
   "version": "3.8.5"
  }
 },
 "nbformat": 4,
 "nbformat_minor": 4
}
